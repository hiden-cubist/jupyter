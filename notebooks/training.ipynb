{
 "cells": [
  {
   "cell_type": "markdown",
   "metadata": {},
   "source": [
    "# 行列分解による推薦モデルの学習"
   ]
  },
  {
   "cell_type": "code",
   "execution_count": 1,
   "metadata": {},
   "outputs": [],
   "source": [
    "import tensorflow as tf\n",
    "import tensorflow_datasets as tfds\n",
    "\n",
    "from tensorflow.keras.layers import Embedding\n",
    "from tensorflow.keras import Model"
   ]
  },
  {
   "cell_type": "code",
   "execution_count": 2,
   "metadata": {},
   "outputs": [],
   "source": [
    "class MatrixFactorization(Model):\n",
    "    def __init__(self, lamda=0.1):\n",
    "        super(MatrixFactorization, self).__init__()\n",
    "        self.lamda = lamda\n",
    "        self.user_factors = Embedding(944, 32)\n",
    "        self.item_factors = Embedding(1683, 32)\n",
    "        self.user_biases = Embedding(944, 1)\n",
    "        self.item_biases = Embedding(1683, 1)\n",
    "        self.biases = Embedding(1, 1)\n",
    "    \n",
    "    def call(self, user_id, item_id):\n",
    "        return tf.math.reduce_sum(self.user_factors(user_id) * self.item_factors(item_id) + self.lamda * (self.biases(0) + self.user_biases(user_id) + self.item_biases(item_id)), axis=1)\n",
    "\n",
    "model = MatrixFactorization(lamda=0.1)"
   ]
  },
  {
   "cell_type": "code",
   "execution_count": 3,
   "metadata": {},
   "outputs": [],
   "source": [
    "loss_object = tf.keras.losses.MeanSquaredError()\n",
    "\n",
    "optimizer = tf.keras.optimizers.Adam()"
   ]
  },
  {
   "cell_type": "code",
   "execution_count": 4,
   "metadata": {},
   "outputs": [],
   "source": [
    "train_mse = tf.keras.metrics.MeanSquaredError(name=\"train_mse\")\n",
    "\n",
    "test_mse = tf.keras.metrics.MeanSquaredError(name=\"test_mse\")"
   ]
  },
  {
   "cell_type": "code",
   "execution_count": 5,
   "metadata": {},
   "outputs": [],
   "source": [
    "@tf.function\n",
    "def train_step(user_id, item_id, rating):\n",
    "    with tf.GradientTape() as tape:\n",
    "        predictions = model(user_id, item_id)\n",
    "        loss = loss_object(rating, predictions)\n",
    "        \n",
    "    gradients = tape.gradient(loss, model.trainable_variables)\n",
    "    optimizer.apply_gradients(zip(gradients, model.trainable_variables))\n",
    "    \n",
    "    train_mse(rating, predictions)"
   ]
  },
  {
   "cell_type": "code",
   "execution_count": 6,
   "metadata": {},
   "outputs": [],
   "source": [
    "@tf.function\n",
    "def test_step(user_id, item_id, rating):\n",
    "    predictions = model(user_id, item_id)\n",
    "    t_loss = loss_object(rating, predictions)\n",
    "\n",
    "    test_mse(rating, predictions)"
   ]
  },
  {
   "cell_type": "code",
   "execution_count": 7,
   "metadata": {},
   "outputs": [
    {
     "name": "stdout",
     "output_type": "stream",
     "text": [
      "Epoch 1, Train RMSE: 1.682153582572937, Test RMSE: 0.9686179161071777\n",
      "Epoch 2, Train RMSE: 0.9230291843414307, Test RMSE: 0.9266422986984253\n",
      "Epoch 3, Train RMSE: 0.8664652109146118, Test RMSE: 0.9153723120689392\n",
      "Epoch 4, Train RMSE: 0.8140984773635864, Test RMSE: 0.9142385125160217\n"
     ]
    }
   ],
   "source": [
    "ds = tfds.load(\"movielens/100k-ratings\", split=[\"train[:80%]\", \"train[-20%:]\"], shuffle_files=True)\n",
    "# ds = tf.data.experimental.make_csv_dataset(\"../data/movielens100k.csv\", batch_size=8)\n",
    "\n",
    "EPOCHS = 4\n",
    "for epoch in range(EPOCHS):\n",
    "    for batch in ds[0].padded_batch(32):\n",
    "        train_step(tf.strings.to_number(batch[\"user_id\"], out_type=tf.dtypes.int32), tf.strings.to_number(batch[\"movie_id\"], out_type=tf.dtypes.int32), batch[\"user_rating\"])\n",
    "\n",
    "    for batch in ds[1].padded_batch(32):\n",
    "        test_step(tf.strings.to_number(batch[\"user_id\"], out_type=tf.dtypes.int32), tf.strings.to_number(batch[\"movie_id\"], out_type=tf.dtypes.int32), batch[\"user_rating\"])\n",
    "\n",
    "    template = 'Epoch {}, Train RMSE: {}, Test RMSE: {}'\n",
    "    print(template.format(epoch+1,\n",
    "                          train_mse.result() ** 0.5,\n",
    "                          test_mse.result() ** 0.5))\n",
    "\n",
    "    train_mse.reset_states()\n",
    "    test_mse.reset_states()"
   ]
  },
  {
   "cell_type": "code",
   "execution_count": 8,
   "metadata": {},
   "outputs": [
    {
     "name": "stdout",
     "output_type": "stream",
     "text": [
      "0\n",
      "[2.822658]\n",
      "1\n",
      "[4.1819167]\n",
      "2\n",
      "[3.332088]\n",
      "3\n",
      "[3.194069]\n",
      "4\n",
      "[3.6317716]\n",
      "5\n",
      "[2.9678195]\n",
      "6\n",
      "[4.49494]\n",
      "7\n",
      "[3.9677973]\n",
      "8\n",
      "[4.157263]\n",
      "9\n",
      "[4.5439568]\n"
     ]
    }
   ],
   "source": [
    "for i in range(10):\n",
    "    print(i)\n",
    "    print(model(tf.constant([1]), tf.constant([i])).numpy())"
   ]
  },
  {
   "cell_type": "code",
   "execution_count": null,
   "metadata": {},
   "outputs": [],
   "source": [
    "model.user_factors.get_weights()"
   ]
  },
  {
   "cell_type": "code",
   "execution_count": null,
   "metadata": {},
   "outputs": [],
   "source": [
    "model.user_biases.get_weights()"
   ]
  },
  {
   "cell_type": "code",
   "execution_count": null,
   "metadata": {},
   "outputs": [],
   "source": [
    "model.biases.get_weights()"
   ]
  },
  {
   "cell_type": "code",
   "execution_count": null,
   "metadata": {},
   "outputs": [],
   "source": []
  }
 ],
 "metadata": {
  "kernelspec": {
   "display_name": "Python 3",
   "language": "python",
   "name": "python3"
  },
  "language_info": {
   "codemirror_mode": {
    "name": "ipython",
    "version": 3
   },
   "file_extension": ".py",
   "mimetype": "text/x-python",
   "name": "python",
   "nbconvert_exporter": "python",
   "pygments_lexer": "ipython3",
   "version": "3.8.7"
  }
 },
 "nbformat": 4,
 "nbformat_minor": 4
}
