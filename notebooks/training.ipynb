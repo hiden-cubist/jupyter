{
 "cells": [
  {
   "cell_type": "markdown",
   "metadata": {},
   "source": [
    "# 行列分解による推薦モデルの学習"
   ]
  },
  {
   "cell_type": "code",
   "execution_count": 1,
   "metadata": {},
   "outputs": [
    {
     "name": "stderr",
     "output_type": "stream",
     "text": [
      "/Users/masigara/.local/share/virtualenvs/jupyter-pnVMXwKv/lib/python3.8/site-packages/pandas/compat/__init__.py:97: UserWarning: Could not import the lzma module. Your installed Python is incomplete. Attempting to use lzma compression will result in a RuntimeError.\n",
      "  warnings.warn(msg)\n"
     ]
    }
   ],
   "source": [
    "import tensorflow as tf\n",
    "import tensorflow_datasets as tfds\n",
    "\n",
    "from tensorflow.keras.layers import Embedding\n",
    "from tensorflow.keras import Model"
   ]
  },
  {
   "cell_type": "code",
   "execution_count": 10,
   "metadata": {},
   "outputs": [],
   "source": [
    "class MatrixFactorization(Model):\n",
    "    def __init__(self):\n",
    "        super(MatrixFactorization, self).__init__()\n",
    "        self.user_factors = Embedding(944, 32)\n",
    "        self.item_factors = Embedding(1683, 32)\n",
    "    \n",
    "    def call(self, user_id, item_id):\n",
    "        return (self.user_factors(user_id) * self.item_factors(item_id))\n",
    "\n",
    "# モデルのインスタンスを作成\n",
    "model = MatrixFactorization()"
   ]
  },
  {
   "cell_type": "code",
   "execution_count": 11,
   "metadata": {},
   "outputs": [],
   "source": [
    "loss_object = tf.keras.losses.SparseCategoricalCrossentropy()\n",
    "\n",
    "optimizer = tf.keras.optimizers.Adam()"
   ]
  },
  {
   "cell_type": "code",
   "execution_count": 12,
   "metadata": {},
   "outputs": [],
   "source": [
    "train_loss = tf.keras.metrics.Mean(name='train_loss')\n",
    "# train_accuracy = tf.keras.metrics.SparseCategoricalAccuracy(name='train_accuracy')\n",
    "\n",
    "test_loss = tf.keras.metrics.Mean(name='test_loss')\n",
    "test_accuracy = tf.keras.metrics.SparseCategoricalAccuracy(name='test_accuracy')"
   ]
  },
  {
   "cell_type": "code",
   "execution_count": 13,
   "metadata": {},
   "outputs": [],
   "source": [
    "@tf.function\n",
    "def train_step(user_id, item_id, rating):\n",
    "    with tf.GradientTape() as tape:\n",
    "        predictions = model(user_id, item_id)\n",
    "        loss = loss_object(rating, predictions)\n",
    "        \n",
    "    gradients = tape.gradient(loss, model.trainable_variables)\n",
    "    optimizer.apply_gradients(zip(gradients, model.trainable_variables))\n",
    "    \n",
    "    train_loss(loss)\n",
    "#     train_accuracy(rating, predictions)"
   ]
  },
  {
   "cell_type": "code",
   "execution_count": 14,
   "metadata": {},
   "outputs": [],
   "source": [
    "@tf.function\n",
    "def test_step(user_id, item_id, rating):\n",
    "    predictions = model(user_id, item_id)\n",
    "    t_loss = loss_object(rating, predictions)\n",
    "\n",
    "    test_loss(t_loss)\n",
    "#     test_accuracy(rating, predictions)"
   ]
  },
  {
   "cell_type": "code",
   "execution_count": null,
   "metadata": {},
   "outputs": [],
   "source": [
    "# ds, info = tfds.load(\"movielens/100k-ratings\", with_info=True)\n",
    "# # info\n",
    "# ds_batch = ds[\"train\"].batch(1).take(1)\n",
    "\n",
    "# for i in ds_batch:\n",
    "#     print(i)\n",
    "\n",
    "ds = tf.data.experimental.make_csv_dataset(\"../data/movielens100k.csv\", batch_size=8)\n",
    "EPOCHS = 5\n",
    "\n",
    "for epoch in range(EPOCHS):\n",
    "    for batch in ds:\n",
    "        train_step(batch[\"user_id\"], batch[\"movie_id\"], batch[\"user_rating\"])\n",
    "\n",
    "    #     for batch in test_ds:\n",
    "    #         test_step(test_images, test_labels)\n",
    "    # \n",
    "    template = 'Epoch {}, Loss: {}'\n",
    "    print (template.format(1,train_loss.result()))\n",
    "\n",
    "    train_loss.reset_states()"
   ]
  },
  {
   "cell_type": "code",
   "execution_count": null,
   "metadata": {},
   "outputs": [],
   "source": [
    "# EPOCHS = 1\n",
    "\n",
    "# for epoch in range(EPOCHS):\n",
    "#     train_step(train_ds)\n",
    "\n",
    "#     for test_images, test_labels in test_ds:\n",
    "#         test_step(test_images, test_labels)\n",
    "\n",
    "#     template = 'Epoch {}, Loss: {}, Accuracy: {}, Test Loss: {}, Test Accuracy: {}'\n",
    "#     print (template.format(epoch+1,\n",
    "#                          train_loss.result(),\n",
    "#                          train_accuracy.result()*100,\n",
    "#                          test_loss.result(),\n",
    "#                          test_accuracy.result()*100))\n",
    "\n",
    "#     # 次のエポック用にメトリクスをリセット\n",
    "#     train_loss.reset_states()\n",
    "#     train_accuracy.reset_states()\n",
    "#     test_loss.reset_states()\n",
    "#     test_accuracy.reset_states()"
   ]
  },
  {
   "cell_type": "code",
   "execution_count": null,
   "metadata": {},
   "outputs": [],
   "source": []
  }
 ],
 "metadata": {
  "kernelspec": {
   "display_name": "Python 3",
   "language": "python",
   "name": "python3"
  },
  "language_info": {
   "codemirror_mode": {
    "name": "ipython",
    "version": 3
   },
   "file_extension": ".py",
   "mimetype": "text/x-python",
   "name": "python",
   "nbconvert_exporter": "python",
   "pygments_lexer": "ipython3",
   "version": "3.8.6"
  }
 },
 "nbformat": 4,
 "nbformat_minor": 4
}
